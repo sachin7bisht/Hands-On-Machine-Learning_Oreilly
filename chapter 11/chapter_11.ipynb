{
  "nbformat": 4,
  "nbformat_minor": 0,
  "metadata": {
    "colab": {
      "name": "chapter_11.ipynb",
      "provenance": [],
      "collapsed_sections": []
    },
    "kernelspec": {
      "name": "python3",
      "display_name": "Python 3"
    }
  },
  "cells": [
    {
      "cell_type": "code",
      "metadata": {
        "id": "m3SnPbrWnguJ"
      },
      "source": [
        "import tensorflow as tf\n",
        "from tensorflow import keras"
      ],
      "execution_count": 51,
      "outputs": []
    },
    {
      "cell_type": "code",
      "metadata": {
        "id": "WFyHY9k4w7fQ"
      },
      "source": [
        "f_mnist=keras.datasets.fashion_mnist"
      ],
      "execution_count": 52,
      "outputs": []
    },
    {
      "cell_type": "code",
      "metadata": {
        "id": "elJ0JsGExFei"
      },
      "source": [
        "(X_tr_f,y_tr_f),(X_te,y_te)=f_mnist.load_data()"
      ],
      "execution_count": 53,
      "outputs": []
    },
    {
      "cell_type": "code",
      "metadata": {
        "id": "kYkOF3F4xqEh"
      },
      "source": [
        "from sklearn.model_selection import train_test_split\n",
        "X_tr,X_val,y_tr,y_val=train_test_split(X_tr_f,y_tr_f,test_size=0.2)"
      ],
      "execution_count": 54,
      "outputs": []
    },
    {
      "cell_type": "code",
      "metadata": {
        "id": "zjaf8FtFvvSV"
      },
      "source": [
        "model=keras.models.Sequential([keras.layers.Flatten(input_shape=[28,28]),\n",
        "                               keras.layers.BatchNormalization(),\n",
        "                               keras.layers.Dense(300,activation='elu',kernel_initializer='he_normal'),\n",
        "                               keras.layers.BatchNormalization(),\n",
        "                               keras.layers.Dense(100,activation='elu',kernel_initializer='he_normal'),\n",
        "                               keras.layers.BatchNormalization(),\n",
        "                               keras.layers.Dense(10,activation='softmax')\n",
        "\n",
        "])"
      ],
      "execution_count": 55,
      "outputs": []
    },
    {
      "cell_type": "code",
      "metadata": {
        "colab": {
          "base_uri": "https://localhost:8080/"
        },
        "id": "gYBsCvD5xWHc",
        "outputId": "619eb486-717e-4288-a144-a58e1077e12e"
      },
      "source": [
        "model.summary()"
      ],
      "execution_count": 56,
      "outputs": [
        {
          "output_type": "stream",
          "text": [
            "Model: \"sequential_4\"\n",
            "_________________________________________________________________\n",
            "Layer (type)                 Output Shape              Param #   \n",
            "=================================================================\n",
            "flatten_2 (Flatten)          (None, 784)               0         \n",
            "_________________________________________________________________\n",
            "batch_normalization_6 (Batch (None, 784)               3136      \n",
            "_________________________________________________________________\n",
            "dense_8 (Dense)              (None, 300)               235500    \n",
            "_________________________________________________________________\n",
            "batch_normalization_7 (Batch (None, 300)               1200      \n",
            "_________________________________________________________________\n",
            "dense_9 (Dense)              (None, 100)               30100     \n",
            "_________________________________________________________________\n",
            "batch_normalization_8 (Batch (None, 100)               400       \n",
            "_________________________________________________________________\n",
            "dense_10 (Dense)             (None, 10)                1010      \n",
            "=================================================================\n",
            "Total params: 271,346\n",
            "Trainable params: 268,978\n",
            "Non-trainable params: 2,368\n",
            "_________________________________________________________________\n"
          ],
          "name": "stdout"
        }
      ]
    },
    {
      "cell_type": "code",
      "metadata": {
        "id": "GuUnaZd42u7A"
      },
      "source": [
        "model.save('model_.h5')"
      ],
      "execution_count": 57,
      "outputs": []
    },
    {
      "cell_type": "code",
      "metadata": {
        "colab": {
          "base_uri": "https://localhost:8080/"
        },
        "id": "g6xfBpz4yRor",
        "outputId": "95bc369a-86cf-4c98-e3a7-8ce5855f64ee"
      },
      "source": [
        "model_A=keras.models.load_model('model_.h5')"
      ],
      "execution_count": 58,
      "outputs": [
        {
          "output_type": "stream",
          "text": [
            "WARNING:tensorflow:No training configuration found in the save file, so the model was *not* compiled. Compile it manually.\n"
          ],
          "name": "stdout"
        }
      ]
    },
    {
      "cell_type": "code",
      "metadata": {
        "id": "HUQA_Fzaya9x"
      },
      "source": [
        "model_B_A=keras.models.Sequential(model_A.layers[:-1])\n",
        "model_B_A.add(keras.layers.Dense(1,activation='sigmoid'))"
      ],
      "execution_count": 59,
      "outputs": []
    },
    {
      "cell_type": "code",
      "metadata": {
        "id": "QEpcoUV0y5Wm"
      },
      "source": [
        "model_A_=keras.models.clone_model(model_A)\n",
        "model_A_.set_weights(model_A.get_weights())"
      ],
      "execution_count": 60,
      "outputs": []
    },
    {
      "cell_type": "code",
      "metadata": {
        "id": "j9Vp3HDBzi_K"
      },
      "source": [
        "for layer in model_B_A.layers[:-1]:\n",
        "  layer.trainable=False"
      ],
      "execution_count": 61,
      "outputs": []
    },
    {
      "cell_type": "code",
      "metadata": {
        "id": "mFWGctWk0hZ1"
      },
      "source": [
        "model_B_A.compile(loss='binary_crossentropy',optimizer='sgd',metrics=['accuracy'])"
      ],
      "execution_count": 62,
      "outputs": []
    },
    {
      "cell_type": "code",
      "metadata": {
        "id": "L79VrMzk3jGG"
      },
      "source": [
        "X_tr_b=X_tr[:200]\n",
        "y_tr_b=y_tr[:200]"
      ],
      "execution_count": 63,
      "outputs": []
    },
    {
      "cell_type": "code",
      "metadata": {
        "id": "d_PFn86335b2"
      },
      "source": [
        "X_val_b=X_val[:80]\n",
        "y_val_b=y_val[:80]"
      ],
      "execution_count": 64,
      "outputs": []
    },
    {
      "cell_type": "code",
      "metadata": {
        "colab": {
          "base_uri": "https://localhost:8080/"
        },
        "id": "6X1_IHfD4qUJ",
        "outputId": "dd68b80f-a70c-4f68-ed6b-2d1b51f0cd7c"
      },
      "source": [
        "y_val_b.shape"
      ],
      "execution_count": 65,
      "outputs": [
        {
          "output_type": "execute_result",
          "data": {
            "text/plain": [
              "(80,)"
            ]
          },
          "metadata": {
            "tags": []
          },
          "execution_count": 65
        }
      ]
    },
    {
      "cell_type": "code",
      "metadata": {
        "colab": {
          "base_uri": "https://localhost:8080/"
        },
        "id": "sD5FDhQE0w1I",
        "outputId": "35387333-03e6-47be-f44c-d5b0935ae28c"
      },
      "source": [
        "history_b=model_B_A.fit(X_tr_b,y_tr_b,epochs=5,validation_data=(X_val_b,y_val_b))"
      ],
      "execution_count": 66,
      "outputs": [
        {
          "output_type": "stream",
          "text": [
            "Epoch 1/5\n",
            "7/7 [==============================] - 1s 66ms/step - loss: -250499.5308 - accuracy: 0.0786 - val_loss: -1000855.0000 - val_accuracy: 0.1250\n",
            "Epoch 2/5\n",
            "7/7 [==============================] - 0s 8ms/step - loss: -1425824.3281 - accuracy: 0.0886 - val_loss: -1888361.6250 - val_accuracy: 0.1250\n",
            "Epoch 3/5\n",
            "7/7 [==============================] - 0s 9ms/step - loss: -2339062.8750 - accuracy: 0.0666 - val_loss: -2819630.0000 - val_accuracy: 0.1250\n",
            "Epoch 4/5\n",
            "7/7 [==============================] - 0s 8ms/step - loss: -3403442.9062 - accuracy: 0.0721 - val_loss: -3704998.7500 - val_accuracy: 0.1250\n",
            "Epoch 5/5\n",
            "7/7 [==============================] - 0s 9ms/step - loss: -4186069.1562 - accuracy: 0.0895 - val_loss: -4653149.0000 - val_accuracy: 0.1250\n"
          ],
          "name": "stdout"
        }
      ]
    },
    {
      "cell_type": "code",
      "metadata": {
        "id": "AZNy9mUk4NHm"
      },
      "source": [
        "for layer in model_B_A.layers[:-1]:\n",
        "  layer.trainable=True"
      ],
      "execution_count": 67,
      "outputs": []
    },
    {
      "cell_type": "code",
      "metadata": {
        "id": "zNmwBqUW5GuF"
      },
      "source": [
        "optimizer=keras.optimizers.SGD(lr=1e-4)"
      ],
      "execution_count": 68,
      "outputs": []
    },
    {
      "cell_type": "code",
      "metadata": {
        "id": "67_15Xob5RGG"
      },
      "source": [
        "model_B_A.compile(loss='binary_crossentropy',optimizer=optimizer,metrics=['accuracy'])"
      ],
      "execution_count": 69,
      "outputs": []
    },
    {
      "cell_type": "code",
      "metadata": {
        "colab": {
          "base_uri": "https://localhost:8080/"
        },
        "id": "W-kGbYFe6H6R",
        "outputId": "75ea1ffe-6d7b-4956-d90d-d710292ed30c"
      },
      "source": [
        "model_B_A.fit(X_tr_b,y_tr_b,epochs=15,validation_data=(X_val_b,y_val_b))"
      ],
      "execution_count": 70,
      "outputs": [
        {
          "output_type": "stream",
          "text": [
            "Epoch 1/15\n",
            "7/7 [==============================] - 1s 42ms/step - loss: -14877.8247 - accuracy: 0.0915 - val_loss: -598220.6875 - val_accuracy: 0.0625\n",
            "Epoch 2/15\n",
            "7/7 [==============================] - 0s 11ms/step - loss: -49712.4111 - accuracy: 0.1164 - val_loss: -479885.4062 - val_accuracy: 0.0625\n",
            "Epoch 3/15\n",
            "7/7 [==============================] - 0s 12ms/step - loss: -73541.3301 - accuracy: 0.0844 - val_loss: -476476.7500 - val_accuracy: 0.1250\n",
            "Epoch 4/15\n",
            "7/7 [==============================] - 0s 11ms/step - loss: -100155.5303 - accuracy: 0.0817 - val_loss: -391278.1875 - val_accuracy: 0.1250\n",
            "Epoch 5/15\n",
            "7/7 [==============================] - 0s 11ms/step - loss: -122150.2920 - accuracy: 0.0821 - val_loss: -453517.4375 - val_accuracy: 0.1250\n",
            "Epoch 6/15\n",
            "7/7 [==============================] - 0s 11ms/step - loss: -150104.0527 - accuracy: 0.0901 - val_loss: -448581.1562 - val_accuracy: 0.1250\n",
            "Epoch 7/15\n",
            "7/7 [==============================] - 0s 12ms/step - loss: -172436.2461 - accuracy: 0.0750 - val_loss: -339441.0625 - val_accuracy: 0.1250\n",
            "Epoch 8/15\n",
            "7/7 [==============================] - 0s 11ms/step - loss: -199638.5820 - accuracy: 0.0893 - val_loss: -454081.1562 - val_accuracy: 0.1250\n",
            "Epoch 9/15\n",
            "7/7 [==============================] - 0s 12ms/step - loss: -222389.2793 - accuracy: 0.0593 - val_loss: -538718.3750 - val_accuracy: 0.1250\n",
            "Epoch 10/15\n",
            "7/7 [==============================] - 0s 11ms/step - loss: -246736.9297 - accuracy: 0.0942 - val_loss: -598954.8125 - val_accuracy: 0.1250\n",
            "Epoch 11/15\n",
            "7/7 [==============================] - 0s 11ms/step - loss: -266785.4688 - accuracy: 0.0832 - val_loss: -510155.9375 - val_accuracy: 0.1250\n",
            "Epoch 12/15\n",
            "7/7 [==============================] - 0s 11ms/step - loss: -298187.5234 - accuracy: 0.0613 - val_loss: -795257.3125 - val_accuracy: 0.1250\n",
            "Epoch 13/15\n",
            "7/7 [==============================] - 0s 12ms/step - loss: -320426.7461 - accuracy: 0.0688 - val_loss: -500249.9062 - val_accuracy: 0.1250\n",
            "Epoch 14/15\n",
            "7/7 [==============================] - 0s 12ms/step - loss: -335944.1133 - accuracy: 0.1113 - val_loss: -693568.3750 - val_accuracy: 0.1250\n",
            "Epoch 15/15\n",
            "7/7 [==============================] - 0s 12ms/step - loss: -374300.8398 - accuracy: 0.0745 - val_loss: -742844.8125 - val_accuracy: 0.1250\n"
          ],
          "name": "stdout"
        },
        {
          "output_type": "execute_result",
          "data": {
            "text/plain": [
              "<tensorflow.python.keras.callbacks.History at 0x7f63a6dd17f0>"
            ]
          },
          "metadata": {
            "tags": []
          },
          "execution_count": 70
        }
      ]
    },
    {
      "cell_type": "code",
      "metadata": {
        "id": "kRg_wwQk6T5C"
      },
      "source": [
        ""
      ],
      "execution_count": 70,
      "outputs": []
    },
    {
      "cell_type": "code",
      "metadata": {
        "id": "ipB9xaya5_Jm"
      },
      "source": [
        ""
      ],
      "execution_count": 70,
      "outputs": []
    },
    {
      "cell_type": "code",
      "metadata": {
        "id": "2zBi2eZZ5foC"
      },
      "source": [
        ""
      ],
      "execution_count": 70,
      "outputs": []
    }
  ]
}