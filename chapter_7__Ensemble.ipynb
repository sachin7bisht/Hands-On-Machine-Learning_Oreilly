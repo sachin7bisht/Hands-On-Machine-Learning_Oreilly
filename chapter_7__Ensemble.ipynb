{
  "nbformat": 4,
  "nbformat_minor": 0,
  "metadata": {
    "colab": {
      "name": "chapter_7 _Ensemble.ipynb",
      "provenance": [],
      "collapsed_sections": []
    },
    "kernelspec": {
      "name": "python3",
      "display_name": "Python 3"
    },
    "accelerator": "GPU"
  },
  "cells": [
    {
      "cell_type": "code",
      "metadata": {
        "id": "nBdfkFSjycjK"
      },
      "source": [
        "from sklearn.linear_model import LogisticRegression\n",
        "from sklearn.ensemble import RandomForestClassifier\n",
        "from sklearn.ensemble import VotingClassifier\n",
        "from sklearn.svm import SVC\n",
        "from sklearn.datasets import make_moons"
      ],
      "execution_count": 44,
      "outputs": []
    },
    {
      "cell_type": "code",
      "metadata": {
        "id": "_hvA_qPrGSTz"
      },
      "source": [
        "log_clf=LogisticRegression()\n",
        "svm_clf=SVC()\n",
        "rf_clf=RandomForestClassifier()"
      ],
      "execution_count": 45,
      "outputs": []
    },
    {
      "cell_type": "code",
      "metadata": {
        "id": "HaU3XbxmGk1A"
      },
      "source": [
        "voting_clf=VotingClassifier(\n",
        "    estimators=[('lr',log_clf),('rf',rf_clf),('svm',svm_clf)],voting='hard'\n",
        ")"
      ],
      "execution_count": 46,
      "outputs": []
    },
    {
      "cell_type": "code",
      "metadata": {
        "id": "rKHKVxqEHI7g"
      },
      "source": [
        "samp=make_moons()"
      ],
      "execution_count": 47,
      "outputs": []
    },
    {
      "cell_type": "code",
      "metadata": {
        "id": "eQl4gIQQHt0B"
      },
      "source": [
        "X=samp[0]\n",
        "y=samp[1]"
      ],
      "execution_count": 48,
      "outputs": []
    },
    {
      "cell_type": "code",
      "metadata": {
        "id": "orYKTaW3ROaJ"
      },
      "source": [
        "X_tr=X[:70]\n",
        "y_tr=y[:70]\n",
        "X_te=X[70:]\n",
        "y_te=y[70:]"
      ],
      "execution_count": 49,
      "outputs": []
    },
    {
      "cell_type": "code",
      "metadata": {
        "colab": {
          "base_uri": "https://localhost:8080/"
        },
        "id": "jpBW0GiYGSXR",
        "outputId": "8b52eea9-4dbc-4f0c-a95c-92546b76c8c4"
      },
      "source": [
        "voting_clf.fit(X_tr,y_tr)"
      ],
      "execution_count": 50,
      "outputs": [
        {
          "output_type": "execute_result",
          "data": {
            "text/plain": [
              "VotingClassifier(estimators=[('lr',\n",
              "                              LogisticRegression(C=1.0, class_weight=None,\n",
              "                                                 dual=False, fit_intercept=True,\n",
              "                                                 intercept_scaling=1,\n",
              "                                                 l1_ratio=None, max_iter=100,\n",
              "                                                 multi_class='auto',\n",
              "                                                 n_jobs=None, penalty='l2',\n",
              "                                                 random_state=None,\n",
              "                                                 solver='lbfgs', tol=0.0001,\n",
              "                                                 verbose=0, warm_start=False)),\n",
              "                             ('rf',\n",
              "                              RandomForestClassifier(bootstrap=True,\n",
              "                                                     ccp_alpha=0.0,\n",
              "                                                     class_weight=None,\n",
              "                                                     cr...\n",
              "                                                     oob_score=False,\n",
              "                                                     random_state=None,\n",
              "                                                     verbose=0,\n",
              "                                                     warm_start=False)),\n",
              "                             ('svm',\n",
              "                              SVC(C=1.0, break_ties=False, cache_size=200,\n",
              "                                  class_weight=None, coef0=0.0,\n",
              "                                  decision_function_shape='ovr', degree=3,\n",
              "                                  gamma='scale', kernel='rbf', max_iter=-1,\n",
              "                                  probability=False, random_state=None,\n",
              "                                  shrinking=True, tol=0.001, verbose=False))],\n",
              "                 flatten_transform=True, n_jobs=None, voting='hard',\n",
              "                 weights=None)"
            ]
          },
          "metadata": {
            "tags": []
          },
          "execution_count": 50
        }
      ]
    },
    {
      "cell_type": "code",
      "metadata": {
        "colab": {
          "base_uri": "https://localhost:8080/"
        },
        "id": "8g00mZImH09R",
        "outputId": "a0b03168-7482-455e-d409-b01b8801fdff"
      },
      "source": [
        "from sklearn.metrics import accuracy_score\n",
        "import numpy as np\n",
        "for clf in (log_clf,rf_clf,svm_clf,voting_clf):\n",
        "  qq=clf.fit(X_tr,y_tr)\n",
        "  y_pred=qq.predict(X_te)\n",
        "  print(accuracy_score(y_te, y_pred))"
      ],
      "execution_count": 51,
      "outputs": [
        {
          "output_type": "stream",
          "text": [
            "0.8666666666666667\n",
            "0.9333333333333333\n",
            "1.0\n",
            "0.9333333333333333\n"
          ],
          "name": "stdout"
        }
      ]
    },
    {
      "cell_type": "code",
      "metadata": {
        "id": "bjdpo7a_EcP2"
      },
      "source": [
        "from sklearn.ensemble import BaggingClassifier\n",
        "from sklearn.tree import DecisionTreeClassifier"
      ],
      "execution_count": 52,
      "outputs": []
    },
    {
      "cell_type": "code",
      "metadata": {
        "colab": {
          "base_uri": "https://localhost:8080/"
        },
        "id": "hmpB6ylnElhO",
        "outputId": "0286a416-f253-4a41-9edc-4a25245d2c35"
      },
      "source": [
        "bag_clf=BaggingClassifier(DecisionTreeClassifier(),n_estimators=500,bootstrap=True,n_jobs=-1,oob_score=True)\n",
        "bag_clf.fit(X_tr,y_tr)\n"
      ],
      "execution_count": 53,
      "outputs": [
        {
          "output_type": "execute_result",
          "data": {
            "text/plain": [
              "BaggingClassifier(base_estimator=DecisionTreeClassifier(ccp_alpha=0.0,\n",
              "                                                        class_weight=None,\n",
              "                                                        criterion='gini',\n",
              "                                                        max_depth=None,\n",
              "                                                        max_features=None,\n",
              "                                                        max_leaf_nodes=None,\n",
              "                                                        min_impurity_decrease=0.0,\n",
              "                                                        min_impurity_split=None,\n",
              "                                                        min_samples_leaf=1,\n",
              "                                                        min_samples_split=2,\n",
              "                                                        min_weight_fraction_leaf=0.0,\n",
              "                                                        presort='deprecated',\n",
              "                                                        random_state=None,\n",
              "                                                        splitter='best'),\n",
              "                  bootstrap=True, bootstrap_features=False, max_features=1.0,\n",
              "                  max_samples=1.0, n_estimators=500, n_jobs=-1, oob_score=True,\n",
              "                  random_state=None, verbose=0, warm_start=False)"
            ]
          },
          "metadata": {
            "tags": []
          },
          "execution_count": 53
        }
      ]
    },
    {
      "cell_type": "code",
      "metadata": {
        "colab": {
          "base_uri": "https://localhost:8080/"
        },
        "id": "Gmu9PyyHFQbr",
        "outputId": "db4ea349-5444-4664-b0f4-6e43ea0ba916"
      },
      "source": [
        "bag_clf.oob_score_"
      ],
      "execution_count": 54,
      "outputs": [
        {
          "output_type": "execute_result",
          "data": {
            "text/plain": [
              "0.9"
            ]
          },
          "metadata": {
            "tags": []
          },
          "execution_count": 54
        }
      ]
    },
    {
      "cell_type": "code",
      "metadata": {
        "colab": {
          "base_uri": "https://localhost:8080/"
        },
        "id": "xl919OB0FXjr",
        "outputId": "c9410080-d7a0-47a9-9112-7f78b6b7696c"
      },
      "source": [
        "from sklearn.metrics import accuracy_score\n",
        "y_pred=bag_clf.predict(X_te)\n",
        "accuracy_score(y_te,y_pred)"
      ],
      "execution_count": 55,
      "outputs": [
        {
          "output_type": "execute_result",
          "data": {
            "text/plain": [
              "0.9"
            ]
          },
          "metadata": {
            "tags": []
          },
          "execution_count": 55
        }
      ]
    },
    {
      "cell_type": "code",
      "metadata": {
        "id": "fsxDnDGwG2VN"
      },
      "source": [
        "from sklearn.ensemble import RandomForestClassifier"
      ],
      "execution_count": 56,
      "outputs": []
    },
    {
      "cell_type": "code",
      "metadata": {
        "id": "M2EGdXhZHD0_"
      },
      "source": [
        "rf_clf=RandomForestClassifier(n_estimators=500,max_leaf_nodes=16)"
      ],
      "execution_count": 57,
      "outputs": []
    },
    {
      "cell_type": "code",
      "metadata": {
        "colab": {
          "base_uri": "https://localhost:8080/"
        },
        "id": "w75szqeuHs0O",
        "outputId": "1f735096-73b2-40be-b00f-c2834ba2b199"
      },
      "source": [
        "rf_clf.fit(X_tr,y_tr)"
      ],
      "execution_count": 58,
      "outputs": [
        {
          "output_type": "execute_result",
          "data": {
            "text/plain": [
              "RandomForestClassifier(bootstrap=True, ccp_alpha=0.0, class_weight=None,\n",
              "                       criterion='gini', max_depth=None, max_features='auto',\n",
              "                       max_leaf_nodes=16, max_samples=None,\n",
              "                       min_impurity_decrease=0.0, min_impurity_split=None,\n",
              "                       min_samples_leaf=1, min_samples_split=2,\n",
              "                       min_weight_fraction_leaf=0.0, n_estimators=500,\n",
              "                       n_jobs=None, oob_score=False, random_state=None,\n",
              "                       verbose=0, warm_start=False)"
            ]
          },
          "metadata": {
            "tags": []
          },
          "execution_count": 58
        }
      ]
    },
    {
      "cell_type": "code",
      "metadata": {
        "id": "ilCbDecqHw1Q"
      },
      "source": [
        "y_pred_rf=rf_clf.predict(X_te)\n"
      ],
      "execution_count": 59,
      "outputs": []
    },
    {
      "cell_type": "code",
      "metadata": {
        "colab": {
          "base_uri": "https://localhost:8080/"
        },
        "id": "kbvaj5pbH6I3",
        "outputId": "f61fcdd0-6eab-4b5d-9756-5ddf1ee84f3e"
      },
      "source": [
        "accuracy_score(y_te,y_pred_rf)"
      ],
      "execution_count": 60,
      "outputs": [
        {
          "output_type": "execute_result",
          "data": {
            "text/plain": [
              "0.9333333333333333"
            ]
          },
          "metadata": {
            "tags": []
          },
          "execution_count": 60
        }
      ]
    },
    {
      "cell_type": "code",
      "metadata": {
        "id": "R3JSNLlcv-CG"
      },
      "source": [
        "from sklearn.datasets import load_iris"
      ],
      "execution_count": 61,
      "outputs": []
    },
    {
      "cell_type": "code",
      "metadata": {
        "id": "QuPMeL4twGQv"
      },
      "source": [
        "iris=load_iris()"
      ],
      "execution_count": 62,
      "outputs": []
    },
    {
      "cell_type": "code",
      "metadata": {
        "colab": {
          "base_uri": "https://localhost:8080/"
        },
        "id": "Hnm9zQD45nzK",
        "outputId": "5886c6e3-99bb-4e49-d39e-2b79c8c5649e"
      },
      "source": [
        "rnd_clf=RandomForestClassifier(n_estimators=500)\n",
        "rnd_clf.fit(iris['data'],iris['target'])"
      ],
      "execution_count": 63,
      "outputs": [
        {
          "output_type": "execute_result",
          "data": {
            "text/plain": [
              "RandomForestClassifier(bootstrap=True, ccp_alpha=0.0, class_weight=None,\n",
              "                       criterion='gini', max_depth=None, max_features='auto',\n",
              "                       max_leaf_nodes=None, max_samples=None,\n",
              "                       min_impurity_decrease=0.0, min_impurity_split=None,\n",
              "                       min_samples_leaf=1, min_samples_split=2,\n",
              "                       min_weight_fraction_leaf=0.0, n_estimators=500,\n",
              "                       n_jobs=None, oob_score=False, random_state=None,\n",
              "                       verbose=0, warm_start=False)"
            ]
          },
          "metadata": {
            "tags": []
          },
          "execution_count": 63
        }
      ]
    },
    {
      "cell_type": "code",
      "metadata": {
        "colab": {
          "base_uri": "https://localhost:8080/"
        },
        "id": "39JzQLCf7i9v",
        "outputId": "ad81c24b-0aa4-4976-a043-1ad9026cc985"
      },
      "source": [
        "for name,score in zip(iris['feature_names'],rnd_clf.feature_importances_):\n",
        "  print(name,score)"
      ],
      "execution_count": 64,
      "outputs": [
        {
          "output_type": "stream",
          "text": [
            "sepal length (cm) 0.08996788878274409\n",
            "sepal width (cm) 0.02264063268154958\n",
            "petal length (cm) 0.4527844683051119\n",
            "petal width (cm) 0.43460701023059445\n"
          ],
          "name": "stdout"
        }
      ]
    },
    {
      "cell_type": "code",
      "metadata": {
        "id": "j3Df3Iuw-vA5"
      },
      "source": [
        "from sklearn.ensemble import AdaBoostClassifier"
      ],
      "execution_count": 65,
      "outputs": []
    },
    {
      "cell_type": "code",
      "metadata": {
        "id": "bi08q8Rt-seh"
      },
      "source": [
        "ada_clf=AdaBoostClassifier(DecisionTreeClassifier(max_depth=1),n_estimators=100,algorithm='SAMME.R',learning_rate=0.5)"
      ],
      "execution_count": 66,
      "outputs": []
    },
    {
      "cell_type": "code",
      "metadata": {
        "colab": {
          "base_uri": "https://localhost:8080/"
        },
        "id": "yC5H8b0ICd40",
        "outputId": "b299ac22-4db6-4064-b88b-99ae92a4b67e"
      },
      "source": [
        "ada_clf.fit(iris['data'],iris['target'])"
      ],
      "execution_count": 67,
      "outputs": [
        {
          "output_type": "execute_result",
          "data": {
            "text/plain": [
              "AdaBoostClassifier(algorithm='SAMME.R',\n",
              "                   base_estimator=DecisionTreeClassifier(ccp_alpha=0.0,\n",
              "                                                         class_weight=None,\n",
              "                                                         criterion='gini',\n",
              "                                                         max_depth=1,\n",
              "                                                         max_features=None,\n",
              "                                                         max_leaf_nodes=None,\n",
              "                                                         min_impurity_decrease=0.0,\n",
              "                                                         min_impurity_split=None,\n",
              "                                                         min_samples_leaf=1,\n",
              "                                                         min_samples_split=2,\n",
              "                                                         min_weight_fraction_leaf=0.0,\n",
              "                                                         presort='deprecated',\n",
              "                                                         random_state=None,\n",
              "                                                         splitter='best'),\n",
              "                   learning_rate=0.5, n_estimators=100, random_state=None)"
            ]
          },
          "metadata": {
            "tags": []
          },
          "execution_count": 67
        }
      ]
    },
    {
      "cell_type": "code",
      "metadata": {
        "colab": {
          "base_uri": "https://localhost:8080/"
        },
        "id": "mfpMtJWvCj-G",
        "outputId": "2e047fdc-81cb-409a-89f0-2063bfad0ec4"
      },
      "source": [
        "ada_clf.feature_importances_"
      ],
      "execution_count": 68,
      "outputs": [
        {
          "output_type": "execute_result",
          "data": {
            "text/plain": [
              "array([0.  , 0.  , 0.48, 0.52])"
            ]
          },
          "metadata": {
            "tags": []
          },
          "execution_count": 68
        }
      ]
    },
    {
      "cell_type": "code",
      "metadata": {
        "id": "IBoTjtNpFTPn"
      },
      "source": [
        "Xx=iris['data']\n",
        "yy=iris['target']"
      ],
      "execution_count": 69,
      "outputs": []
    },
    {
      "cell_type": "code",
      "metadata": {
        "id": "WVScnbTUINHp"
      },
      "source": [
        "from sklearn.model_selection import train_test_split\n",
        "from sklearn.metrics import accuracy_score\n",
        "import numpy as np"
      ],
      "execution_count": 70,
      "outputs": []
    },
    {
      "cell_type": "code",
      "metadata": {
        "id": "vmR3d1OWXuFt"
      },
      "source": [
        "from sklearn.metrics import mean_squared_error"
      ],
      "execution_count": 78,
      "outputs": []
    },
    {
      "cell_type": "code",
      "metadata": {
        "id": "o2veZe1HJO7C"
      },
      "source": [
        "from sklearn.ensemble import GradientBoostingRegressor"
      ],
      "execution_count": 71,
      "outputs": []
    },
    {
      "cell_type": "code",
      "metadata": {
        "id": "D-Kkplh5Ic8U"
      },
      "source": [
        "x_tr,x_val,y_tr,y_val=train_test_split(Xx,yy)"
      ],
      "execution_count": 72,
      "outputs": []
    },
    {
      "cell_type": "code",
      "metadata": {
        "id": "VXVjBkq6InoB"
      },
      "source": [
        "gbrt=GradientBoostingClassifier(max_depth=2,n_estimators=100)"
      ],
      "execution_count": 73,
      "outputs": []
    },
    {
      "cell_type": "code",
      "metadata": {
        "colab": {
          "base_uri": "https://localhost:8080/"
        },
        "id": "YSe6CVsQXffh",
        "outputId": "93e7fda4-2815-4ce1-cd66-2a5d4b3dd939"
      },
      "source": [
        "gbrt.fit(x_tr,y_tr)"
      ],
      "execution_count": 77,
      "outputs": [
        {
          "output_type": "execute_result",
          "data": {
            "text/plain": [
              "GradientBoostingClassifier(ccp_alpha=0.0, criterion='friedman_mse', init=None,\n",
              "                           learning_rate=0.1, loss='deviance', max_depth=2,\n",
              "                           max_features=None, max_leaf_nodes=None,\n",
              "                           min_impurity_decrease=0.0, min_impurity_split=None,\n",
              "                           min_samples_leaf=1, min_samples_split=2,\n",
              "                           min_weight_fraction_leaf=0.0, n_estimators=100,\n",
              "                           n_iter_no_change=None, presort='deprecated',\n",
              "                           random_state=None, subsample=1.0, tol=0.0001,\n",
              "                           validation_fraction=0.1, verbose=0,\n",
              "                           warm_start=False)"
            ]
          },
          "metadata": {
            "tags": []
          },
          "execution_count": 77
        }
      ]
    },
    {
      "cell_type": "code",
      "metadata": {
        "id": "fNkjOmxFXkCt"
      },
      "source": [
        "errors=[mean_squared_error(y_val,y_pred) for y_pred in gbrt.staged_predict(x_val)]"
      ],
      "execution_count": 79,
      "outputs": []
    },
    {
      "cell_type": "code",
      "metadata": {
        "id": "Dc-O9apmYJa1"
      },
      "source": [
        "b_estimator=np.argmin(errors)"
      ],
      "execution_count": 80,
      "outputs": []
    },
    {
      "cell_type": "code",
      "metadata": {
        "colab": {
          "base_uri": "https://localhost:8080/"
        },
        "id": "Oq_5WBQlYStj",
        "outputId": "5fe85757-859c-4e1e-d53e-e554ef66202a"
      },
      "source": [
        "errors"
      ],
      "execution_count": 82,
      "outputs": [
        {
          "output_type": "execute_result",
          "data": {
            "text/plain": [
              "[0.02631578947368421,\n",
              " 0.05263157894736842,\n",
              " 0.05263157894736842,\n",
              " 0.05263157894736842,\n",
              " 0.05263157894736842,\n",
              " 0.05263157894736842,\n",
              " 0.05263157894736842,\n",
              " 0.05263157894736842,\n",
              " 0.05263157894736842,\n",
              " 0.05263157894736842,\n",
              " 0.05263157894736842,\n",
              " 0.05263157894736842,\n",
              " 0.05263157894736842,\n",
              " 0.05263157894736842,\n",
              " 0.05263157894736842,\n",
              " 0.05263157894736842,\n",
              " 0.05263157894736842,\n",
              " 0.05263157894736842,\n",
              " 0.05263157894736842,\n",
              " 0.05263157894736842,\n",
              " 0.05263157894736842,\n",
              " 0.05263157894736842,\n",
              " 0.05263157894736842,\n",
              " 0.05263157894736842,\n",
              " 0.05263157894736842,\n",
              " 0.05263157894736842,\n",
              " 0.05263157894736842,\n",
              " 0.05263157894736842,\n",
              " 0.05263157894736842,\n",
              " 0.05263157894736842,\n",
              " 0.05263157894736842,\n",
              " 0.05263157894736842,\n",
              " 0.05263157894736842,\n",
              " 0.05263157894736842,\n",
              " 0.05263157894736842,\n",
              " 0.05263157894736842,\n",
              " 0.05263157894736842,\n",
              " 0.05263157894736842,\n",
              " 0.05263157894736842,\n",
              " 0.05263157894736842,\n",
              " 0.05263157894736842,\n",
              " 0.05263157894736842,\n",
              " 0.05263157894736842,\n",
              " 0.05263157894736842,\n",
              " 0.05263157894736842,\n",
              " 0.05263157894736842,\n",
              " 0.05263157894736842,\n",
              " 0.05263157894736842,\n",
              " 0.05263157894736842,\n",
              " 0.05263157894736842,\n",
              " 0.05263157894736842,\n",
              " 0.05263157894736842,\n",
              " 0.05263157894736842,\n",
              " 0.05263157894736842,\n",
              " 0.05263157894736842,\n",
              " 0.05263157894736842,\n",
              " 0.05263157894736842,\n",
              " 0.05263157894736842,\n",
              " 0.05263157894736842,\n",
              " 0.05263157894736842,\n",
              " 0.05263157894736842,\n",
              " 0.05263157894736842,\n",
              " 0.05263157894736842,\n",
              " 0.05263157894736842,\n",
              " 0.05263157894736842,\n",
              " 0.05263157894736842,\n",
              " 0.05263157894736842,\n",
              " 0.05263157894736842,\n",
              " 0.05263157894736842,\n",
              " 0.05263157894736842,\n",
              " 0.05263157894736842,\n",
              " 0.05263157894736842,\n",
              " 0.05263157894736842,\n",
              " 0.05263157894736842,\n",
              " 0.05263157894736842,\n",
              " 0.05263157894736842,\n",
              " 0.05263157894736842,\n",
              " 0.05263157894736842,\n",
              " 0.05263157894736842,\n",
              " 0.05263157894736842,\n",
              " 0.05263157894736842,\n",
              " 0.05263157894736842,\n",
              " 0.05263157894736842,\n",
              " 0.05263157894736842,\n",
              " 0.05263157894736842,\n",
              " 0.05263157894736842,\n",
              " 0.05263157894736842,\n",
              " 0.05263157894736842,\n",
              " 0.05263157894736842,\n",
              " 0.05263157894736842,\n",
              " 0.05263157894736842,\n",
              " 0.05263157894736842,\n",
              " 0.05263157894736842,\n",
              " 0.05263157894736842,\n",
              " 0.05263157894736842,\n",
              " 0.05263157894736842,\n",
              " 0.05263157894736842,\n",
              " 0.05263157894736842,\n",
              " 0.05263157894736842,\n",
              " 0.05263157894736842]"
            ]
          },
          "metadata": {
            "tags": []
          },
          "execution_count": 82
        }
      ]
    },
    {
      "cell_type": "code",
      "metadata": {
        "id": "FVgudgCubZfN"
      },
      "source": [
        ""
      ],
      "execution_count": null,
      "outputs": []
    },
    {
      "cell_type": "code",
      "metadata": {
        "id": "xnH_cTVvbYTh"
      },
      "source": [
        ""
      ],
      "execution_count": null,
      "outputs": []
    },
    {
      "cell_type": "code",
      "metadata": {
        "colab": {
          "base_uri": "https://localhost:8080/"
        },
        "id": "n0FNfkc4YPtW",
        "outputId": "6e045e38-3e77-4d84-ef0b-277be25aec09"
      },
      "source": [
        "b_estimator"
      ],
      "execution_count": 81,
      "outputs": [
        {
          "output_type": "execute_result",
          "data": {
            "text/plain": [
              "0"
            ]
          },
          "metadata": {
            "tags": []
          },
          "execution_count": 81
        }
      ]
    },
    {
      "cell_type": "code",
      "metadata": {
        "id": "88tp9Y65bUts"
      },
      "source": [
        "import xgboost"
      ],
      "execution_count": 83,
      "outputs": []
    },
    {
      "cell_type": "code",
      "metadata": {
        "id": "qUsFe8BybXQV"
      },
      "source": [
        "xg_reg=xgboost.XGBRegressor()\n"
      ],
      "execution_count": 84,
      "outputs": []
    },
    {
      "cell_type": "code",
      "metadata": {
        "colab": {
          "base_uri": "https://localhost:8080/"
        },
        "id": "vxav9iCMbl--",
        "outputId": "f3513b1b-d876-4baa-d80b-6e1af3747220"
      },
      "source": [
        "xg_reg.fit(x_tr,y_tr)\n",
        "y_predd=xg_reg.predict((x_val))"
      ],
      "execution_count": 85,
      "outputs": [
        {
          "output_type": "stream",
          "text": [
            "[07:52:56] WARNING: /workspace/src/objective/regression_obj.cu:152: reg:linear is now deprecated in favor of reg:squarederror.\n"
          ],
          "name": "stdout"
        }
      ]
    },
    {
      "cell_type": "code",
      "metadata": {
        "id": "a3cZmalhbwFD"
      },
      "source": [
        ""
      ],
      "execution_count": null,
      "outputs": []
    }
  ]
}