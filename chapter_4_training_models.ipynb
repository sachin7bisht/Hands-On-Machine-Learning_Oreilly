{
  "nbformat": 4,
  "nbformat_minor": 0,
  "metadata": {
    "colab": {
      "name": "chapter_4_training_models.ipynb",
      "provenance": [],
      "collapsed_sections": []
    },
    "kernelspec": {
      "name": "python3",
      "display_name": "Python 3"
    },
    "accelerator": "GPU"
  },
  "cells": [
    {
      "cell_type": "code",
      "metadata": {
        "id": "Ssqy5krBkMt9"
      },
      "source": [
        "import numpy as np\n",
        "import matplotlib.pyplot as plt"
      ],
      "execution_count": 260,
      "outputs": []
    },
    {
      "cell_type": "code",
      "metadata": {
        "id": "OHy9oi8WSMow"
      },
      "source": [
        "m=100\n",
        "X=6*np.random.rand(m,1)-3\n",
        "y=0.5*X**2+X+2+np.random.randn(m,1)"
      ],
      "execution_count": 261,
      "outputs": []
    },
    {
      "cell_type": "code",
      "metadata": {
        "colab": {
          "base_uri": "https://localhost:8080/",
          "height": 265
        },
        "id": "80ZyreaukyRo",
        "outputId": "2b00c9b9-b8d1-46f5-bff6-3155b8208e24"
      },
      "source": [
        "plt.scatter(X,y)\n",
        "plt.show()"
      ],
      "execution_count": 262,
      "outputs": [
        {
          "output_type": "display_data",
          "data": {
            "image/png": "[encoded data removed]",
            "text/plain": [
              "<Figure size 432x288 with 1 Axes>"
            ]
          },
          "metadata": {
            "tags": [],
            "needs_background": "light"
          }
        }
      ]
    },
    {
      "cell_type": "code",
      "metadata": {
        "id": "DY5y_3e-md5S"
      },
      "source": [
        "from sklearn.preprocessing import PolynomialFeatures\n"
      ],
      "execution_count": 263,
      "outputs": []
    },
    {
      "cell_type": "code",
      "metadata": {
        "id": "qz6ogKoDmkUO"
      },
      "source": [
        "poly_features=PolynomialFeatures(degree=2,include_bias=False)"
      ],
      "execution_count": 264,
      "outputs": []
    },
    {
      "cell_type": "code",
      "metadata": {
        "id": "gg0K9xOSmuSF"
      },
      "source": [
        "X_poly=poly_features.fit_transform(X)"
      ],
      "execution_count": 265,
      "outputs": []
    },
    {
      "cell_type": "code",
      "metadata": {
        "colab": {
          "base_uri": "https://localhost:8080/"
        },
        "id": "F_O_mK7-l4KU",
        "outputId": "e2afcdf5-13cc-4d9c-cd65-b8972a0b130f"
      },
      "source": [
        "X_poly[0]"
      ],
      "execution_count": 266,
      "outputs": [
        {
          "output_type": "execute_result",
          "data": {
            "text/plain": [
              "array([-0.55482737,  0.30783341])"
            ]
          },
          "metadata": {
            "tags": []
          },
          "execution_count": 266
        }
      ]
    },
    {
      "cell_type": "code",
      "metadata": {
        "id": "T0i59RdxnRTZ"
      },
      "source": [
        "from sklearn.linear_model import LinearRegression"
      ],
      "execution_count": 267,
      "outputs": []
    },
    {
      "cell_type": "code",
      "metadata": {
        "id": "b72RoKzan1xa"
      },
      "source": [
        "lin_reg=LinearRegression()"
      ],
      "execution_count": 268,
      "outputs": []
    },
    {
      "cell_type": "code",
      "metadata": {
        "colab": {
          "base_uri": "https://localhost:8080/"
        },
        "id": "RsUshhBVnRYO",
        "outputId": "7cd2e01a-f3e3-421a-d27c-3548b3f5dcba"
      },
      "source": [
        "lin_reg.fit(X_poly,y)"
      ],
      "execution_count": 269,
      "outputs": [
        {
          "output_type": "execute_result",
          "data": {
            "text/plain": [
              "LinearRegression(copy_X=True, fit_intercept=True, n_jobs=None, normalize=False)"
            ]
          },
          "metadata": {
            "tags": []
          },
          "execution_count": 269
        }
      ]
    },
    {
      "cell_type": "code",
      "metadata": {
        "colab": {
          "base_uri": "https://localhost:8080/"
        },
        "id": "CmgwUqCnoB78",
        "outputId": "8a92448f-ffa0-4361-ff30-3e42dfd99e4d"
      },
      "source": [
        "lin_reg.intercept_"
      ],
      "execution_count": 270,
      "outputs": [
        {
          "output_type": "execute_result",
          "data": {
            "text/plain": [
              "array([2.22187689])"
            ]
          },
          "metadata": {
            "tags": []
          },
          "execution_count": 270
        }
      ]
    },
    {
      "cell_type": "code",
      "metadata": {
        "colab": {
          "base_uri": "https://localhost:8080/"
        },
        "id": "CCHy9u8LoFvr",
        "outputId": "ea352e1b-3604-466d-9b3e-21accc32518a"
      },
      "source": [
        "lin_reg.coef_"
      ],
      "execution_count": 271,
      "outputs": [
        {
          "output_type": "execute_result",
          "data": {
            "text/plain": [
              "array([[1.01602221, 0.47809217]])"
            ]
          },
          "metadata": {
            "tags": []
          },
          "execution_count": 271
        }
      ]
    },
    {
      "cell_type": "code",
      "metadata": {
        "id": "gDPqfO-AoJBz"
      },
      "source": [
        "m=100\n",
        "X_=6*np.random.rand(m,1)-3\n",
        "y_=0.44127839*X_**2+0.93143972*X_+2.03587119"
      ],
      "execution_count": 272,
      "outputs": []
    },
    {
      "cell_type": "code",
      "metadata": {
        "colab": {
          "base_uri": "https://localhost:8080/",
          "height": 265
        },
        "id": "G2al3o0RnRb5",
        "outputId": "d47a34b1-460b-40ce-b10e-6132285f1be0"
      },
      "source": [
        "plt.scatter(X,y)\n",
        "plt.scatter(X_,y_)\n",
        "plt.show()"
      ],
      "execution_count": 273,
      "outputs": [
        {
          "output_type": "display_data",
          "data": {
            "image/png": "[encoded data removed]",
            "text/plain": [
              "<Figure size 432x288 with 1 Axes>"
            ]
          },
          "metadata": {
            "tags": [],
            "needs_background": "light"
          }
        }
      ]
    },
    {
      "cell_type": "code",
      "metadata": {
        "id": "7G9uSYEDupNt"
      },
      "source": [
        "from sklearn.metrics import mean_squared_error\n",
        "from sklearn.model_selection import train_test_split"
      ],
      "execution_count": 274,
      "outputs": []
    },
    {
      "cell_type": "code",
      "metadata": {
        "id": "Y8rzKExNvAD-"
      },
      "source": [
        "def plot_learning_curves(model,X,y):\n",
        "  X_train,x_val,y_train,y_val=train_test_split(X,y,test_size=0.2)\n",
        "  train_error,val_error=[],[]\n",
        "  for m in range(1,len(X_train)):\n",
        "    model.fit(X_train[:m],y_train[:m])\n",
        "    y_train_pred=model.predict(X_train[:m])\n",
        "    y_val_pred=model.predict(x_val)\n",
        "    train_error.append(mean_squared_error(y_train[:m],y_train_pred))\n",
        "    val_error.append(mean_squared_error(y_val,y_val_pred))\n",
        "  plt.plot(np.sqrt(train_error),'r-+',label='train')\n",
        "  plt.plot(np.sqrt(val_error),'b-',label='val')"
      ],
      "execution_count": 275,
      "outputs": []
    },
    {
      "cell_type": "code",
      "metadata": {
        "colab": {
          "base_uri": "https://localhost:8080/",
          "height": 265
        },
        "id": "UuuZXwervAQq",
        "outputId": "5e08580c-ec56-4400-c157-aba02e118c4f"
      },
      "source": [
        "lin_reg=LinearRegression()\n",
        "plot_learning_curves(lin_reg,X,y)"
      ],
      "execution_count": 276,
      "outputs": [
        {
          "output_type": "display_data",
          "data": {
            "image/png": "[encoded data removed]",
            "text/plain": [
              "<Figure size 432x288 with 1 Axes>"
            ]
          },
          "metadata": {
            "tags": [],
            "needs_background": "light"
          }
        }
      ]
    },
    {
      "cell_type": "code",
      "metadata": {
        "id": "okPAu24lyhdC"
      },
      "source": [
        "from sklearn.pipeline import Pipeline\n"
      ],
      "execution_count": 277,
      "outputs": []
    },
    {
      "cell_type": "code",
      "metadata": {
        "colab": {
          "base_uri": "https://localhost:8080/",
          "height": 276
        },
        "id": "TVjjxo2rynDI",
        "outputId": "f4931f0c-4f64-41b8-fbec-4f8b358f1a93"
      },
      "source": [
        "poly_regg=Pipeline([('poly_feat',PolynomialFeatures(degree=10,include_bias=False)),\n",
        "                    ('lin_reg',LinearRegression())])\n",
        "plot_learning_curves(poly_regg,X,y)"
      ],
      "execution_count": 278,
      "outputs": [
        {
          "output_type": "display_data",
          "data": {
            "image/png": "[encoded data removed]",
            "text/plain": [
              "<Figure size 432x288 with 1 Axes>"
            ]
          },
          "metadata": {
            "tags": [],
            "needs_background": "light"
          }
        }
      ]
    },
    {
      "cell_type": "code",
      "metadata": {
        "id": "aIyTn_WIxN5F"
      },
      "source": [
        "from sklearn.base import clone\n",
        "from sklearn.preprocessing import StandardScaler"
      ],
      "execution_count": 279,
      "outputs": []
    },
    {
      "cell_type": "code",
      "metadata": {
        "id": "vbM4F21UDQVN"
      },
      "source": [
        "poly_scalr=Pipeline([('poly_feature',PolynomialFeatures(degree=90,include_bias=False)),\n",
        "                     ('std_scaler',StandardScaler())])"
      ],
      "execution_count": 280,
      "outputs": []
    },
    {
      "cell_type": "code",
      "metadata": {
        "id": "4bAZ5iqP10yC"
      },
      "source": [
        "# X_train_poly_scaled=poly_scalr.fit_transform(X_train)"
      ],
      "execution_count": 281,
      "outputs": []
    },
    {
      "cell_type": "code",
      "metadata": {
        "id": "nE_p6Wqq106L"
      },
      "source": [
        "from sklearn import datasets"
      ],
      "execution_count": 282,
      "outputs": []
    },
    {
      "cell_type": "code",
      "metadata": {
        "id": "3bdXUOwPIApl"
      },
      "source": [
        "iris=datasets.load_iris()"
      ],
      "execution_count": 283,
      "outputs": []
    },
    {
      "cell_type": "code",
      "metadata": {
        "colab": {
          "base_uri": "https://localhost:8080/"
        },
        "id": "XCy1CQ65IINe",
        "outputId": "b906c483-e78c-47fd-cfd7-3eb466d2d6c9"
      },
      "source": [
        "iris.keys()"
      ],
      "execution_count": 284,
      "outputs": [
        {
          "output_type": "execute_result",
          "data": {
            "text/plain": [
              "dict_keys(['data', 'target', 'target_names', 'DESCR', 'feature_names', 'filename'])"
            ]
          },
          "metadata": {
            "tags": []
          },
          "execution_count": 284
        }
      ]
    },
    {
      "cell_type": "code",
      "metadata": {
        "colab": {
          "base_uri": "https://localhost:8080/"
        },
        "id": "UYOHDoX3108j",
        "outputId": "1206c653-da96-4051-ad5a-e78fcd1a4a0a"
      },
      "source": [
        "iris[\"feature_names\"]"
      ],
      "execution_count": 285,
      "outputs": [
        {
          "output_type": "execute_result",
          "data": {
            "text/plain": [
              "['sepal length (cm)',\n",
              " 'sepal width (cm)',\n",
              " 'petal length (cm)',\n",
              " 'petal width (cm)']"
            ]
          },
          "metadata": {
            "tags": []
          },
          "execution_count": 285
        }
      ]
    },
    {
      "cell_type": "code",
      "metadata": {
        "colab": {
          "base_uri": "https://localhost:8080/"
        },
        "id": "VcTNB0pwIl7h",
        "outputId": "51005139-bfc2-4dec-8c12-3af1d51eb2ed"
      },
      "source": [
        "iris['data'][0]"
      ],
      "execution_count": 286,
      "outputs": [
        {
          "output_type": "execute_result",
          "data": {
            "text/plain": [
              "array([5.1, 3.5, 1.4, 0.2])"
            ]
          },
          "metadata": {
            "tags": []
          },
          "execution_count": 286
        }
      ]
    },
    {
      "cell_type": "code",
      "metadata": {
        "colab": {
          "base_uri": "https://localhost:8080/"
        },
        "id": "Squi_2GuIsLM",
        "outputId": "3dd39e82-1b43-4be8-83bb-4c04525badc8"
      },
      "source": [
        "iris['target'][0]"
      ],
      "execution_count": 287,
      "outputs": [
        {
          "output_type": "execute_result",
          "data": {
            "text/plain": [
              "0"
            ]
          },
          "metadata": {
            "tags": []
          },
          "execution_count": 287
        }
      ]
    },
    {
      "cell_type": "code",
      "metadata": {
        "colab": {
          "base_uri": "https://localhost:8080/"
        },
        "id": "8gUn-EILIxrc",
        "outputId": "645792cc-b1f0-4673-ba12-d5bf8ab5b386"
      },
      "source": [
        "iris['target_names']"
      ],
      "execution_count": 288,
      "outputs": [
        {
          "output_type": "execute_result",
          "data": {
            "text/plain": [
              "array(['setosa', 'versicolor', 'virginica'], dtype='<U10')"
            ]
          },
          "metadata": {
            "tags": []
          },
          "execution_count": 288
        }
      ]
    },
    {
      "cell_type": "code",
      "metadata": {
        "id": "kSQI4Ocu3dY-"
      },
      "source": [
        "X=iris['data'][:,3:]\n",
        "y=(iris['target']==2).astype(np.int)"
      ],
      "execution_count": 289,
      "outputs": []
    },
    {
      "cell_type": "code",
      "metadata": {
        "id": "cHOsN253Nu0X"
      },
      "source": [
        "from sklearn.linear_model import LogisticRegression\n",
        "log_reg=LogisticRegression()"
      ],
      "execution_count": 290,
      "outputs": []
    },
    {
      "cell_type": "code",
      "metadata": {
        "colab": {
          "base_uri": "https://localhost:8080/"
        },
        "id": "fN17X2tLN6_8",
        "outputId": "287ff74d-6f48-45b0-f763-ac96ea7aec0c"
      },
      "source": [
        "log_reg.fit(X,y)"
      ],
      "execution_count": 291,
      "outputs": [
        {
          "output_type": "execute_result",
          "data": {
            "text/plain": [
              "LogisticRegression(C=1.0, class_weight=None, dual=False, fit_intercept=True,\n",
              "                   intercept_scaling=1, l1_ratio=None, max_iter=100,\n",
              "                   multi_class='auto', n_jobs=None, penalty='l2',\n",
              "                   random_state=None, solver='lbfgs', tol=0.0001, verbose=0,\n",
              "                   warm_start=False)"
            ]
          },
          "metadata": {
            "tags": []
          },
          "execution_count": 291
        }
      ]
    },
    {
      "cell_type": "code",
      "metadata": {
        "id": "aOddPN2mN-Pu"
      },
      "source": [
        "X_new=np.linspace(0,3,1000).reshape(-1,1)"
      ],
      "execution_count": 292,
      "outputs": []
    },
    {
      "cell_type": "code",
      "metadata": {
        "id": "hVlIjw1aOXyL"
      },
      "source": [
        "y_proba_log=log_reg.predict(X_new)"
      ],
      "execution_count": 293,
      "outputs": []
    },
    {
      "cell_type": "code",
      "metadata": {
        "id": "Ih9ZpyUsN7XH"
      },
      "source": [
        "X_=iris['data'][:,(2,3)]\n",
        "y_=iris['target']"
      ],
      "execution_count": 295,
      "outputs": []
    },
    {
      "cell_type": "code",
      "metadata": {
        "colab": {
          "base_uri": "https://localhost:8080/"
        },
        "id": "INzkctmlbx0Z",
        "outputId": "418ac82b-19ff-44b2-f9b5-acd6fe90d80d"
      },
      "source": [
        "softmax_reg=LogisticRegression(multi_class='multinomial',solver='lbfgs',C=10)\n",
        "softmax_reg.fit(X_,y_)"
      ],
      "execution_count": 297,
      "outputs": [
        {
          "output_type": "execute_result",
          "data": {
            "text/plain": [
              "LogisticRegression(C=10, class_weight=None, dual=False, fit_intercept=True,\n",
              "                   intercept_scaling=1, l1_ratio=None, max_iter=100,\n",
              "                   multi_class='multinomial', n_jobs=None, penalty='l2',\n",
              "                   random_state=None, solver='lbfgs', tol=0.0001, verbose=0,\n",
              "                   warm_start=False)"
            ]
          },
          "metadata": {
            "tags": []
          },
          "execution_count": 297
        }
      ]
    },
    {
      "cell_type": "code",
      "metadata": {
        "id": "WHdBMbtMcG8r"
      },
      "source": [
        ""
      ],
      "execution_count": null,
      "outputs": []
    },
    {
      "cell_type": "code",
      "metadata": {
        "id": "t5BlmSiycG_v"
      },
      "source": [
        ""
      ],
      "execution_count": null,
      "outputs": []
    }
  ]
}